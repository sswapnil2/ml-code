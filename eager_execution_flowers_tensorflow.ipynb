{
  "nbformat": 4,
  "nbformat_minor": 0,
  "metadata": {
    "colab": {
      "name": "eager_execution.ipynb",
      "version": "0.3.2",
      "provenance": [],
      "include_colab_link": true
    },
    "kernelspec": {
      "name": "python3",
      "display_name": "Python 3"
    }
  },
  "cells": [
    {
      "cell_type": "markdown",
      "metadata": {
        "id": "view-in-github",
        "colab_type": "text"
      },
      "source": [
        "<a href=\"https://colab.research.google.com/github/sswapnil2/ml-code/blob/master/eager_execution_flowers_tensorflow.ipynb\" target=\"_parent\"><img src=\"https://colab.research.google.com/assets/colab-badge.svg\" alt=\"Open In Colab\"/></a>"
      ]
    },
    {
      "metadata": {
        "id": "86bWCgBtBriL",
        "colab_type": "text"
      },
      "cell_type": "markdown",
      "source": [
        "# Lets's Import required dependencies"
      ]
    },
    {
      "metadata": {
        "id": "kJy0XOyUBoGK",
        "colab_type": "code",
        "colab": {
          "base_uri": "https://localhost:8080/",
          "height": 51
        },
        "outputId": "3d40c243-d638-4c7c-e8d4-f435dbeadc5c"
      },
      "cell_type": "code",
      "source": [
        "from __future__ import print_function, absolute_import, division\n",
        "\n",
        "import os\n",
        "import matplotlib.pyplot as plt\n",
        "import tensorflow as tf\n",
        "tf.enable_eager_execution()\n",
        "\n",
        "print(f\"Tensorflow version: {tf.__version__}\")\n",
        "print(f\"Eager execution: {tf.executing_eagerly()}\")"
      ],
      "execution_count": 1,
      "outputs": [
        {
          "output_type": "stream",
          "text": [
            "Tensorflow version: 1.13.0-rc2\n",
            "Eager execution: True\n"
          ],
          "name": "stdout"
        }
      ]
    },
    {
      "metadata": {
        "id": "twr_d7Q6CN24",
        "colab_type": "code",
        "colab": {
          "base_uri": "https://localhost:8080/",
          "height": 68
        },
        "outputId": "3ff89344-7052-4498-8124-5ad2f406593e"
      },
      "cell_type": "code",
      "source": [
        "train_dataset_url = \"https://storage.googleapis.com/download.tensorflow.org/data/iris_training.csv\"\n",
        "\n",
        "train_dataset_fp = tf.keras.utils.get_file(fname=os.path.basename(train_dataset_url), origin=train_dataset_url)\n",
        "\n",
        "print(\"Local copy of the dataset: {}\".format(train_dataset_fp))"
      ],
      "execution_count": 2,
      "outputs": [
        {
          "output_type": "stream",
          "text": [
            "Downloading data from https://storage.googleapis.com/download.tensorflow.org/data/iris_training.csv\n",
            "8192/2194 [================================================================================================================] - 0s 0us/step\n",
            "Local copy of the dataset: /root/.keras/datasets/iris_training.csv\n"
          ],
          "name": "stdout"
        }
      ]
    },
    {
      "metadata": {
        "id": "TEYmXSKaC26m",
        "colab_type": "code",
        "colab": {
          "base_uri": "https://localhost:8080/",
          "height": 102
        },
        "outputId": "e4a3afba-3d26-4d80-efdf-e3082350dd14"
      },
      "cell_type": "code",
      "source": [
        "!head -n5 {train_dataset_fp}"
      ],
      "execution_count": 3,
      "outputs": [
        {
          "output_type": "stream",
          "text": [
            "120,4,setosa,versicolor,virginica\n",
            "6.4,2.8,5.6,2.2,2\n",
            "5.0,2.3,3.3,1.0,1\n",
            "4.9,2.5,4.5,1.7,2\n",
            "4.9,3.1,1.5,0.1,0\n"
          ],
          "name": "stdout"
        }
      ]
    },
    {
      "metadata": {
        "id": "eeQwgfcaC_-D",
        "colab_type": "code",
        "colab": {
          "base_uri": "https://localhost:8080/",
          "height": 51
        },
        "outputId": "9cc06f3a-967b-4d3e-ab60-8cbde55e2d7d"
      },
      "cell_type": "code",
      "source": [
        "# column order in csv\n",
        "column_names = [\"sepal_length\", \"sepal_width\", \"petal_length\", \"petal_width\", \"species\"]\n",
        "\n",
        "features = column_names[:-1]\n",
        "label = column_names[-1]\n",
        "\n",
        "print(f\"feature columns: {features}\")\n",
        "print(f\"label: {label}\")"
      ],
      "execution_count": 4,
      "outputs": [
        {
          "output_type": "stream",
          "text": [
            "feature columns: ['sepal_length', 'sepal_width', 'petal_length', 'petal_width']\n",
            "label: species\n"
          ],
          "name": "stdout"
        }
      ]
    },
    {
      "metadata": {
        "id": "Jd4Z91d6DmRN",
        "colab_type": "code",
        "colab": {}
      },
      "cell_type": "code",
      "source": [
        "class_names = [\"Iris setosa\", \"Iris vericolor\", \"Iris virginica\"]\n"
      ],
      "execution_count": 0,
      "outputs": []
    },
    {
      "metadata": {
        "id": "la1y1Xu4D3aS",
        "colab_type": "code",
        "colab": {}
      },
      "cell_type": "code",
      "source": [
        "batch_size = 32\n",
        "\n",
        "train_dataset = tf.data.experimental.make_csv_dataset(\n",
        "  train_dataset_fp,\n",
        "    batch_size,\n",
        "    column_names=column_names,\n",
        "    label_name=label,\n",
        "     num_epochs=1\n",
        ")"
      ],
      "execution_count": 0,
      "outputs": []
    },
    {
      "metadata": {
        "id": "QAYIOw2WEUHs",
        "colab_type": "code",
        "colab": {
          "base_uri": "https://localhost:8080/",
          "height": 88
        },
        "outputId": "a6d73fdd-1a48-4e8c-e917-7b0c235e3a69"
      },
      "cell_type": "code",
      "source": [
        "features, labels = next(iter(train_dataset))"
      ],
      "execution_count": 10,
      "outputs": [
        {
          "output_type": "stream",
          "text": [
            "WARNING:tensorflow:From /usr/local/lib/python3.6/dist-packages/tensorflow/python/data/ops/iterator_ops.py:532: colocate_with (from tensorflow.python.framework.ops) is deprecated and will be removed in a future version.\n",
            "Instructions for updating:\n",
            "Colocations handled automatically by placer.\n"
          ],
          "name": "stdout"
        }
      ]
    },
    {
      "metadata": {
        "id": "3FHqq_ALEmMt",
        "colab_type": "code",
        "colab": {
          "base_uri": "https://localhost:8080/",
          "height": 357
        },
        "outputId": "51796e48-e372-4888-c4fc-e8a58e2ca2e1"
      },
      "cell_type": "code",
      "source": [
        "features"
      ],
      "execution_count": 11,
      "outputs": [
        {
          "output_type": "execute_result",
          "data": {
            "text/plain": [
              "OrderedDict([('sepal_length',\n",
              "              <tf.Tensor: id=102, shape=(32,), dtype=float32, numpy=\n",
              "              array([4.4, 4.9, 5.8, 4.9, 7.7, 5.2, 5. , 4.4, 5.5, 5.7, 5.8, 5. , 5.6,\n",
              "                     4.7, 5. , 5.9, 4.8, 6.3, 7.7, 4.8, 5.1, 7.4, 5. , 6.9, 6.5, 5.1,\n",
              "                     6.5, 4.7, 6.4, 5. , 5.8, 5. ], dtype=float32)>),\n",
              "             ('sepal_width',\n",
              "              <tf.Tensor: id=103, shape=(32,), dtype=float32, numpy=\n",
              "              array([2.9, 3.1, 2.7, 2.5, 3.8, 3.5, 3.5, 3.2, 3.5, 2.9, 2.6, 3.2, 2.9,\n",
              "                     3.2, 3.3, 3.2, 3.4, 2.7, 2.8, 3.1, 3.8, 2.8, 2. , 3.1, 3.2, 3.7,\n",
              "                     3. , 3.2, 3.2, 3. , 2.8, 2.3], dtype=float32)>),\n",
              "             ('petal_length',\n",
              "              <tf.Tensor: id=100, shape=(32,), dtype=float32, numpy=\n",
              "              array([1.4, 1.5, 5.1, 4.5, 6.7, 1.5, 1.3, 1.3, 1.3, 4.2, 4. , 1.2, 3.6,\n",
              "                     1.3, 1.4, 4.8, 1.6, 4.9, 6.7, 1.6, 1.5, 6.1, 3.5, 5.1, 5.1, 1.5,\n",
              "                     5.5, 1.6, 4.5, 1.6, 5.1, 3.3], dtype=float32)>),\n",
              "             ('petal_width',\n",
              "              <tf.Tensor: id=101, shape=(32,), dtype=float32, numpy=\n",
              "              array([0.2, 0.1, 1.9, 1.7, 2.2, 0.2, 0.3, 0.2, 0.2, 1.3, 1.2, 0.2, 1.3,\n",
              "                     0.2, 0.2, 1.8, 0.2, 1.8, 2. , 0.2, 0.3, 1.9, 1. , 2.3, 2. , 0.4,\n",
              "                     1.8, 0.2, 1.5, 0.2, 2.4, 1. ], dtype=float32)>)])"
            ]
          },
          "metadata": {
            "tags": []
          },
          "execution_count": 11
        }
      ]
    },
    {
      "metadata": {
        "id": "K8SR3L_HEn2V",
        "colab_type": "code",
        "colab": {
          "base_uri": "https://localhost:8080/",
          "height": 378
        },
        "outputId": "cf1a9229-328c-4419-ac1e-654c83e9ef09"
      },
      "cell_type": "code",
      "source": [
        "plt.scatter(features[\"petal_length\"].numpy(), features[\"sepal_length\"].numpy(),\n",
        "           c=labels.numpy(),\n",
        "           cmap=\"viridis\")\n",
        "plt.xlabel(\"Petal length\")\n",
        "plt.ylabel(\"Sepal length\")"
      ],
      "execution_count": 13,
      "outputs": [
        {
          "output_type": "execute_result",
          "data": {
            "text/plain": [
              "Text(0, 0.5, 'Sepal length')"
            ]
          },
          "metadata": {
            "tags": []
          },
          "execution_count": 13
        },
        {
          "output_type": "display_data",
          "data": {
            "image/png": "[encoded data removed]",
            "text/plain": [
              "<Figure size 576x396 with 1 Axes>"
            ]
          },
          "metadata": {
            "tags": []
          }
        }
      ]
    },
    {
      "metadata": {
        "id": "3CWC8DjJFVWr",
        "colab_type": "code",
        "colab": {}
      },
      "cell_type": "code",
      "source": [
        "def pack_feature_vectors(features, labels):\n",
        "  features = tf.stack(list(features.values()), axis=1)\n",
        "  return features, labels"
      ],
      "execution_count": 0,
      "outputs": []
    },
    {
      "metadata": {
        "id": "bQ1kj1tlFx3W",
        "colab_type": "code",
        "colab": {}
      },
      "cell_type": "code",
      "source": [
        "train_dataset = train_dataset.map(pack_feature_vectors)"
      ],
      "execution_count": 0,
      "outputs": []
    },
    {
      "metadata": {
        "id": "qeXaKmniF5dF",
        "colab_type": "code",
        "colab": {
          "base_uri": "https://localhost:8080/",
          "height": 119
        },
        "outputId": "93722981-37ce-414d-b349-c4dd27d01384"
      },
      "cell_type": "code",
      "source": [
        "features, labels = next(iter(train_dataset))\n",
        "\n",
        "print(features[:5])"
      ],
      "execution_count": 16,
      "outputs": [
        {
          "output_type": "stream",
          "text": [
            "tf.Tensor(\n",
            "[[5.  3.5 1.6 0.6]\n",
            " [4.4 2.9 1.4 0.2]\n",
            " [6.  3.  4.8 1.8]\n",
            " [4.8 3.  1.4 0.1]\n",
            " [4.6 3.6 1.  0.2]], shape=(5, 4), dtype=float32)\n"
          ],
          "name": "stdout"
        }
      ]
    },
    {
      "metadata": {
        "id": "te4ekJ9xF8MP",
        "colab_type": "code",
        "colab": {}
      },
      "cell_type": "code",
      "source": [
        "model = tf.keras.Sequential([\n",
        "  tf.keras.layers.Dense(10, activation=tf.nn.relu, input_shape=(4,)),  # input shape required\n",
        "  tf.keras.layers.Dense(10, activation=tf.nn.relu),\n",
        "  tf.keras.layers.Dense(3)\n",
        "])"
      ],
      "execution_count": 0,
      "outputs": []
    },
    {
      "metadata": {
        "id": "bR0RPB7cGEwW",
        "colab_type": "code",
        "colab": {
          "base_uri": "https://localhost:8080/",
          "height": 119
        },
        "outputId": "e1ee3363-10fc-488b-c1ca-2e01cfaa12e9"
      },
      "cell_type": "code",
      "source": [
        "predictions = model(features)\n",
        "predictions[:5]"
      ],
      "execution_count": 18,
      "outputs": [
        {
          "output_type": "execute_result",
          "data": {
            "text/plain": [
              "<tf.Tensor: id=247, shape=(5, 3), dtype=float32, numpy=\n",
              "array([[ 1.1677141, -2.2645426, -1.4774466],\n",
              "       [ 1.0814731, -2.0002358, -1.3830796],\n",
              "       [ 2.2336037, -3.3881557, -2.6370459],\n",
              "       [ 1.146116 , -2.1069386, -1.4639828],\n",
              "       [ 1.0493803, -2.1663754, -1.4348909]], dtype=float32)>"
            ]
          },
          "metadata": {
            "tags": []
          },
          "execution_count": 18
        }
      ]
    },
    {
      "metadata": {
        "id": "1XFNeBGLGMKI",
        "colab_type": "code",
        "colab": {
          "base_uri": "https://localhost:8080/",
          "height": 119
        },
        "outputId": "facc84d4-5caa-4766-fbfc-14a747e7cee4"
      },
      "cell_type": "code",
      "source": [
        "tf.nn.softmax(predictions[:5])"
      ],
      "execution_count": 19,
      "outputs": [
        {
          "output_type": "execute_result",
          "data": {
            "text/plain": [
              "<tf.Tensor: id=253, shape=(5, 3), dtype=float32, numpy=\n",
              "array([[0.90636533, 0.02928823, 0.06434645],\n",
              "       [0.88422984, 0.04056916, 0.07520097],\n",
              "       [0.9888393 , 0.00357789, 0.0075828 ],\n",
              "       [0.8991323 , 0.03475681, 0.06611075],\n",
              "       [0.8900667 , 0.03571393, 0.07421938]], dtype=float32)>"
            ]
          },
          "metadata": {
            "tags": []
          },
          "execution_count": 19
        }
      ]
    },
    {
      "metadata": {
        "id": "RSntfbzdGTMJ",
        "colab_type": "code",
        "colab": {
          "base_uri": "https://localhost:8080/",
          "height": 51
        },
        "outputId": "99a0f85a-f445-4c3e-e37a-9a9d6e081889"
      },
      "cell_type": "code",
      "source": [
        "print(\"predictions: {}\".format(tf.argmax(predictions, axis=1)))\n",
        "print((\"labels: {}\".format(labels)))"
      ],
      "execution_count": 20,
      "outputs": [
        {
          "output_type": "stream",
          "text": [
            "predictions: [0 0 0 0 0 0 0 0 0 0 0 0 0 0 0 0 0 0 0 0 0 0 0 0 0 0 0 0 0 0 0 0]\n",
            "labels: [0 0 2 0 0 1 0 2 1 0 1 2 0 1 1 2 1 0 0 1 1 2 2 2 2 1 1 0 0 1 0 2]\n"
          ],
          "name": "stdout"
        }
      ]
    },
    {
      "metadata": {
        "id": "ZgUp9ZV5GhBr",
        "colab_type": "code",
        "colab": {
          "base_uri": "https://localhost:8080/",
          "height": 34
        },
        "outputId": "f89a1d04-c7cf-41af-d6f5-292b5c28c6d9"
      },
      "cell_type": "code",
      "source": [
        "def loss(model, x, y):\n",
        "  y_ = model(x)\n",
        "  return tf.losses.sparse_softmax_cross_entropy(labels=y, logits=y_)\n",
        "l = loss(model, features, labels)\n",
        "print(\"loss test: {}\".format(l))"
      ],
      "execution_count": 22,
      "outputs": [
        {
          "output_type": "stream",
          "text": [
            "loss test: 3.3047642707824707\n"
          ],
          "name": "stdout"
        }
      ]
    },
    {
      "metadata": {
        "id": "wKz8uHqqHAJT",
        "colab_type": "code",
        "colab": {}
      },
      "cell_type": "code",
      "source": [
        "def grad(model, inputs, targets):\n",
        "  with tf.GradientTape() as tape:\n",
        "    loss_value = loss(model, inputs, targets)\n",
        "  return loss_value, tape.gradient(loss_value, model.trainable_variables)"
      ],
      "execution_count": 0,
      "outputs": []
    },
    {
      "metadata": {
        "id": "YXr2XAZaHdBa",
        "colab_type": "code",
        "colab": {}
      },
      "cell_type": "code",
      "source": [
        "optimizer = tf.train.GradientDescentOptimizer(learning_rate=0.01)\n",
        "\n",
        "global_step = tf.Variable(0)"
      ],
      "execution_count": 0,
      "outputs": []
    },
    {
      "metadata": {
        "id": "s1QkytzJHtKM",
        "colab_type": "code",
        "colab": {
          "base_uri": "https://localhost:8080/",
          "height": 51
        },
        "outputId": "2309a304-127e-48e5-d009-22a116115dbe"
      },
      "cell_type": "code",
      "source": [
        "loss_value, grads = grad(model, features, labels)\n",
        "\n",
        "print(\"Step: {}, Initial Loss: {}\".format(global_step.numpy(),\n",
        "                                          loss_value.numpy()))\n",
        "\n",
        "optimizer.apply_gradients(zip(grads, model.trainable_variables), global_step)\n",
        "\n",
        "print(\"Step: {},         Loss: {}\".format(global_step.numpy(),\n",
        "                                          loss(model, features, labels).numpy()))"
      ],
      "execution_count": 28,
      "outputs": [
        {
          "output_type": "stream",
          "text": [
            "Step: 0, Initial Loss: 3.3047642707824707\n",
            "Step: 1,         Loss: 2.48681640625\n"
          ],
          "name": "stdout"
        }
      ]
    },
    {
      "metadata": {
        "id": "ThoQkcFXI__N",
        "colab_type": "text"
      },
      "cell_type": "markdown",
      "source": [
        "## training loop"
      ]
    },
    {
      "metadata": {
        "id": "S9WAZnD5IRWA",
        "colab_type": "code",
        "colab": {
          "base_uri": "https://localhost:8080/",
          "height": 102
        },
        "outputId": "bdfbc0f6-5f0b-42d1-c7fc-aebfbc06be8a"
      },
      "cell_type": "code",
      "source": [
        "from tensorflow import contrib\n",
        "tfe = contrib.eager\n",
        "\n",
        "# keep results for plotting\n",
        "train_loss_results = []\n",
        "train_accuracy_results = []\n",
        "\n",
        "num_epochs = 201\n",
        "\n",
        "for epoch in range(num_epochs):\n",
        "  epoch_loss_avg = tfe.metrics.Mean()\n",
        "  epoch_accuracy = tfe.metrics.Accuracy()\n",
        "  \n",
        "  # Training loop using a batch size of 32\n",
        "  for x, y in train_dataset:\n",
        "    \n",
        "    # optimize the model\n",
        "    loss_value, gradiants = grad(model, x, y)\n",
        "    optimizer.apply_gradients(zip(gradiants, model.trainable_variables), global_step)\n",
        "    \n",
        "    # track progress\n",
        "    epoch_loss_avg(loss_value)\n",
        "    \n",
        "    # compare predicted label to actual label\n",
        "    epoch_accuracy(tf.argmax(model(x), axis=1, output_type=tf.int32), y)\n",
        "  \n",
        "  # end epoxh\n",
        "  train_loss_results.append(epoch_loss_avg.result())\n",
        "  train_accuracy_results.append(epoch_accuracy.result())\n",
        "  \n",
        "  if epoch % 50 == 0:\n",
        "    print(\"Epoch {:03d}: Loss: {:.3f}, Accuracy: {:.3%}\".format(epoch,\n",
        "                                                                epoch_loss_avg.result(),\n",
        "                                                                epoch_accuracy.result()))"
      ],
      "execution_count": 31,
      "outputs": [
        {
          "output_type": "stream",
          "text": [
            "Epoch 000: Loss: 1.511, Accuracy: 35.000%\n",
            "Epoch 050: Loss: 0.644, Accuracy: 95.833%\n",
            "Epoch 100: Loss: 0.484, Accuracy: 90.000%\n",
            "Epoch 150: Loss: 0.304, Accuracy: 97.500%\n",
            "Epoch 200: Loss: 0.199, Accuracy: 98.333%\n"
          ],
          "name": "stdout"
        }
      ]
    },
    {
      "metadata": {
        "id": "LzS4mNftLLaS",
        "colab_type": "text"
      },
      "cell_type": "markdown",
      "source": [
        "## Visualize loss function over time"
      ]
    },
    {
      "metadata": {
        "id": "-CFTumxcK2iI",
        "colab_type": "code",
        "colab": {
          "base_uri": "https://localhost:8080/",
          "height": 575
        },
        "outputId": "be9431e9-bf08-456b-a9ce-ca47bfda4c5a"
      },
      "cell_type": "code",
      "source": [
        "fig, axes = plt.subplots(2, sharex=True, figsize=(12,8 ))\n",
        "fig.suptitle(\"Training Metrics\")\n",
        "\n",
        "axes[0].set_ylabel(\"Loss\", fontsize=14)\n",
        "axes[0].plot(train_loss_results)\n",
        "\n",
        "axes[1].set_ylabel(\"Accuracy\", fontsize=14)\n",
        "axes[1].set_xlabel(\"Epoch\", fontsize=14)\n",
        "axes[1].plot(train_accuracy_results)"
      ],
      "execution_count": 35,
      "outputs": [
        {
          "output_type": "execute_result",
          "data": {
            "text/plain": [
              "[<matplotlib.lines.Line2D at 0x7fb9aa0a69e8>]"
            ]
          },
          "metadata": {
            "tags": []
          },
          "execution_count": 35
        },
        {
          "output_type": "display_data",
          "data": {
            "image/png": "[encoded data removed]",
            "text/plain": [
              "<Figure size 864x576 with 2 Axes>"
            ]
          },
          "metadata": {
            "tags": []
          }
        }
      ]
    },
    {
      "metadata": {
        "id": "eWNBgQV2MKP_",
        "colab_type": "text"
      },
      "cell_type": "markdown",
      "source": [
        "## Evaluate model on test  dataset"
      ]
    },
    {
      "metadata": {
        "id": "J0SSZ91xL3J_",
        "colab_type": "code",
        "colab": {
          "base_uri": "https://localhost:8080/",
          "height": 71
        },
        "outputId": "3762ef17-5a92-40af-9a25-bbd76d3e1895"
      },
      "cell_type": "code",
      "source": [
        "test_url = \"https://storage.googleapis.com/download.tensorflow.org/data/iris_test.csv\"\n",
        "\n",
        "test_fp = tf.keras.utils.get_file(fname=os.path.basename(test_url),\n",
        "                                  origin=test_url)"
      ],
      "execution_count": 36,
      "outputs": [
        {
          "output_type": "stream",
          "text": [
            "Downloading data from https://storage.googleapis.com/download.tensorflow.org/data/iris_test.csv\n",
            "\r8192/573 [============================================================================================================================================================================================================================================================================================================================================================================================================================================] - 0s 0us/step\n"
          ],
          "name": "stdout"
        }
      ]
    },
    {
      "metadata": {
        "id": "VDL1FWBMMPPO",
        "colab_type": "code",
        "colab": {}
      },
      "cell_type": "code",
      "source": [
        "test_dataset = tf.contrib.data.make_csv_dataset(\n",
        "    test_fp,\n",
        "    batch_size, \n",
        "    column_names=column_names,\n",
        "    label_name='species',\n",
        "    num_epochs=1,\n",
        "    shuffle=False)\n",
        "\n",
        "test_dataset = test_dataset.map(pack_feature_vectors)"
      ],
      "execution_count": 0,
      "outputs": []
    },
    {
      "metadata": {
        "id": "nJ5maB4cMQ-T",
        "colab_type": "code",
        "colab": {
          "base_uri": "https://localhost:8080/",
          "height": 34
        },
        "outputId": "370db272-2642-492e-8cbb-e120a88253bf"
      },
      "cell_type": "code",
      "source": [
        "test_accuracy = tfe.metrics.Accuracy()\n",
        "\n",
        "for (x, y) in test_dataset:\n",
        "  logits = model(x)\n",
        "  prediction = tf.argmax(logits, axis=1, output_type=tf.int32)\n",
        "  test_accuracy(prediction, y)\n",
        "\n",
        "print(\"Test set accuracy: {:.3%}\".format(test_accuracy.result()))"
      ],
      "execution_count": 39,
      "outputs": [
        {
          "output_type": "stream",
          "text": [
            "Test set accuracy: 96.667%\n"
          ],
          "name": "stdout"
        }
      ]
    },
    {
      "metadata": {
        "id": "Xd-xK06qMctC",
        "colab_type": "code",
        "colab": {
          "base_uri": "https://localhost:8080/",
          "height": 544
        },
        "outputId": "6eb182fc-d3b2-417f-f3db-8105ff3a89d5"
      },
      "cell_type": "code",
      "source": [
        "tf.stack([y,prediction],axis=1)"
      ],
      "execution_count": 40,
      "outputs": [
        {
          "output_type": "execute_result",
          "data": {
            "text/plain": [
              "<tf.Tensor: id=108948, shape=(30, 2), dtype=int32, numpy=\n",
              "array([[1, 1],\n",
              "       [2, 2],\n",
              "       [0, 0],\n",
              "       [1, 1],\n",
              "       [1, 1],\n",
              "       [1, 1],\n",
              "       [0, 0],\n",
              "       [2, 2],\n",
              "       [1, 1],\n",
              "       [2, 2],\n",
              "       [2, 2],\n",
              "       [0, 0],\n",
              "       [2, 2],\n",
              "       [1, 1],\n",
              "       [1, 1],\n",
              "       [0, 0],\n",
              "       [1, 1],\n",
              "       [0, 0],\n",
              "       [0, 0],\n",
              "       [2, 2],\n",
              "       [0, 0],\n",
              "       [1, 1],\n",
              "       [2, 2],\n",
              "       [1, 2],\n",
              "       [1, 1],\n",
              "       [1, 1],\n",
              "       [0, 0],\n",
              "       [1, 1],\n",
              "       [2, 2],\n",
              "       [1, 1]], dtype=int32)>"
            ]
          },
          "metadata": {
            "tags": []
          },
          "execution_count": 40
        }
      ]
    },
    {
      "metadata": {
        "id": "R5iWlXK9MfaU",
        "colab_type": "code",
        "colab": {
          "base_uri": "https://localhost:8080/",
          "height": 68
        },
        "outputId": "ecc49147-ea20-4d3a-aa0d-ddc40ec65bb9"
      },
      "cell_type": "code",
      "source": [
        "predict_dataset = tf.convert_to_tensor([\n",
        "    [5.1, 3.3, 1.7, 0.5,],\n",
        "    [5.9, 3.0, 4.2, 1.5,],\n",
        "    [6.9, 3.1, 5.4, 2.1]\n",
        "])\n",
        "\n",
        "predictions = model(predict_dataset)\n",
        "\n",
        "for i, logits in enumerate(predictions):\n",
        "  class_idx = tf.argmax(logits).numpy()\n",
        "  p = tf.nn.softmax(logits)[class_idx]\n",
        "  name = class_names[class_idx]\n",
        "  print(\"Example {} prediction: {} ({:4.1f}%)\".format(i, name, 100*p))\n",
        "\n"
      ],
      "execution_count": 41,
      "outputs": [
        {
          "output_type": "stream",
          "text": [
            "Example 0 prediction: Iris setosa (96.1%)\n",
            "Example 1 prediction: Iris vericolor (75.3%)\n",
            "Example 2 prediction: Iris virginica (69.4%)\n"
          ],
          "name": "stdout"
        }
      ]
    },
    {
      "metadata": {
        "id": "o6ZyWh3dMlRh",
        "colab_type": "code",
        "colab": {}
      },
      "cell_type": "code",
      "source": [
        ""
      ],
      "execution_count": 0,
      "outputs": []
    }
  ]
}